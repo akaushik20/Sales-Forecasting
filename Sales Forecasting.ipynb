{
 "cells": [
  {
   "cell_type": "markdown",
   "metadata": {},
   "source": [
    "#Sales Forecasting\n",
    "\n",
    "The first step is to read the data and store in python dataframe.\n",
    "For this analysis I have taken the data from Kaggle Competition. Link - https://www.kaggle.com/c/competitive-data-science-predict-future-sales\n",
    "\n",
    "Exploring Data\n",
    "List of columns/feature\n",
    "\n"
   ]
  },
  {
   "cell_type": "code",
   "execution_count": 14,
   "metadata": {},
   "outputs": [
    {
     "name": "stdout",
     "output_type": "stream",
     "text": [
      "date               object\n",
      "date_block_num      int64\n",
      "shop_id             int64\n",
      "item_id             int64\n",
      "item_price        float64\n",
      "item_cnt_day      float64\n",
      "dtype: object\n",
      "Unique No of Items:  21807\n"
     ]
    }
   ],
   "source": [
    "import pandas as ps\n",
    "import numpy as ns\n",
    "import matplotlib.pyplot as plt\n",
    "%matplotlib inline\n",
    "##Fetch Sales Train Data\n",
    "train=ps.read_csv(\"C:/Users/arpit/Downloads/competitive-data-science-predict-future-sales/sales_train.csv\")\n",
    "print(train.dtypes)\n",
    "\n",
    "##check for Missing values\n",
    "\n",
    "\n",
    "##List the distinct categories of Item id\n",
    "print(\"Unique No of Items: \",train['item_id'].nunique())"
   ]
  },
  {
   "cell_type": "markdown",
   "metadata": {},
   "source": [
    "After we export the data, we would need to build a scatter plot for Sales and "
   ]
  }
 ],
 "metadata": {
  "kernelspec": {
   "display_name": "Python 3",
   "language": "python",
   "name": "python3"
  },
  "language_info": {
   "codemirror_mode": {
    "name": "ipython",
    "version": 3
   },
   "file_extension": ".py",
   "mimetype": "text/x-python",
   "name": "python",
   "nbconvert_exporter": "python",
   "pygments_lexer": "ipython3",
   "version": "3.7.6"
  }
 },
 "nbformat": 4,
 "nbformat_minor": 4
}
